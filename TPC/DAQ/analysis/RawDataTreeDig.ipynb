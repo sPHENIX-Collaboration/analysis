{
 "cells": [
  {
   "cell_type": "code",
   "execution_count": 1,
   "id": "ad304f65-77a3-4b62-abee-d87624fa264c",
   "metadata": {},
   "outputs": [
    {
     "data": {
      "text/html": [
       "        <script type=\"text/javascript\">\n",
       "        window.PlotlyConfig = {MathJaxConfig: 'local'};\n",
       "        if (window.MathJax && window.MathJax.Hub && window.MathJax.Hub.Config) {window.MathJax.Hub.Config({SVG: {font: \"STIX-Web\"}});}\n",
       "        if (typeof require !== 'undefined') {\n",
       "        require.undef(\"plotly\");\n",
       "        requirejs.config({\n",
       "            paths: {\n",
       "                'plotly': ['https://cdn.plot.ly/plotly-2.16.1.min']\n",
       "            }\n",
       "        });\n",
       "        require(['plotly'], function(Plotly) {\n",
       "            window._Plotly = Plotly;\n",
       "        });\n",
       "        }\n",
       "        </script>\n",
       "        "
      ]
     },
     "metadata": {},
     "output_type": "display_data"
    },
    {
     "name": "stdout",
     "output_type": "stream",
     "text": [
      "Welcome to JupyROOT 6.26/06\n",
      "Python: 3.10.8\n"
     ]
    }
   ],
   "source": [
    "# imports to write dynamic markdown contents\n",
    "import os\n",
    "from IPython.display import display, Markdown, Latex\n",
    "from IPython.display import HTML\n",
    "\n",
    "import pandas as pd\n",
    "from collections import OrderedDict\n",
    "\n",
    "import pprint\n",
    "import re\n",
    "import numpy as np\n",
    "import matplotlib.pyplot as plt\n",
    "import random\n",
    "\n",
    "import plotly.graph_objs as go\n",
    "from plotly.offline import init_notebook_mode, iplot\n",
    "import plotly.express as px\n",
    "init_notebook_mode(connected=True)  \n",
    "import glob\n",
    "import uproot \n",
    "import ROOT\n",
    "\n",
    "import platform\n",
    "print('Python:', platform.python_version())"
   ]
  },
  {
   "cell_type": "code",
   "execution_count": 2,
   "id": "ed0848b8-f5a1-45de-915f-cc6fdd710e7f",
   "metadata": {},
   "outputs": [
    {
     "name": "stdout",
     "output_type": "stream",
     "text": [
      "['/phenix/u/jinhuang/links/sPHENIX_work/TPC/commissioning/TPC_ebdc00_beam-00010674-0000.prdf.root',\n",
      " '/phenix/u/jinhuang/links/sPHENIX_work/TPC/commissioning/TPC_ebdc01_beam-00010674-0000.prdf.root',\n",
      " '/phenix/u/jinhuang/links/sPHENIX_work/TPC/commissioning/TPC_ebdc02_beam-00010674-0000.prdf.root',\n",
      " '/phenix/u/jinhuang/links/sPHENIX_work/TPC/commissioning/TPC_ebdc03_beam-00010674-0000.prdf.root',\n",
      " '/phenix/u/jinhuang/links/sPHENIX_work/TPC/commissioning/TPC_ebdc04_beam-00010674-0000.prdf.root',\n",
      " '/phenix/u/jinhuang/links/sPHENIX_work/TPC/commissioning/TPC_ebdc05_beam-00010674-0000.prdf.root',\n",
      " '/phenix/u/jinhuang/links/sPHENIX_work/TPC/commissioning/TPC_ebdc06_beam-00010674-0000.prdf.root',\n",
      " '/phenix/u/jinhuang/links/sPHENIX_work/TPC/commissioning/TPC_ebdc07_beam-00010674-0000.prdf.root',\n",
      " '/phenix/u/jinhuang/links/sPHENIX_work/TPC/commissioning/TPC_ebdc08_beam-00010674-0000.prdf.root',\n",
      " '/phenix/u/jinhuang/links/sPHENIX_work/TPC/commissioning/TPC_ebdc09_beam-00010674-0000.prdf.root',\n",
      " '/phenix/u/jinhuang/links/sPHENIX_work/TPC/commissioning/TPC_ebdc10_beam-00010674-0000.prdf.root',\n",
      " '/phenix/u/jinhuang/links/sPHENIX_work/TPC/commissioning/TPC_ebdc11_beam-00010674-0000.prdf.root',\n",
      " '/phenix/u/jinhuang/links/sPHENIX_work/TPC/commissioning/TPC_ebdc12_beam-00010674-0000.prdf.root',\n",
      " '/phenix/u/jinhuang/links/sPHENIX_work/TPC/commissioning/TPC_ebdc13_beam-00010674-0000.prdf.root',\n",
      " '/phenix/u/jinhuang/links/sPHENIX_work/TPC/commissioning/TPC_ebdc14_beam-00010674-0000.prdf.root',\n",
      " '/phenix/u/jinhuang/links/sPHENIX_work/TPC/commissioning/TPC_ebdc15_beam-00010674-0000.prdf.root',\n",
      " '/phenix/u/jinhuang/links/sPHENIX_work/TPC/commissioning/TPC_ebdc16_beam-00010674-0000.prdf.root',\n",
      " '/phenix/u/jinhuang/links/sPHENIX_work/TPC/commissioning/TPC_ebdc17_beam-00010674-0000.prdf.root',\n",
      " '/phenix/u/jinhuang/links/sPHENIX_work/TPC/commissioning/TPC_ebdc18_beam-00010674-0000.prdf.root',\n",
      " '/phenix/u/jinhuang/links/sPHENIX_work/TPC/commissioning/TPC_ebdc19_beam-00010674-0000.prdf.root',\n",
      " '/phenix/u/jinhuang/links/sPHENIX_work/TPC/commissioning/TPC_ebdc20_beam-00010674-0000.prdf.root',\n",
      " '/phenix/u/jinhuang/links/sPHENIX_work/TPC/commissioning/TPC_ebdc21_beam-00010674-0000.prdf.root',\n",
      " '/phenix/u/jinhuang/links/sPHENIX_work/TPC/commissioning/TPC_ebdc22_beam-00010674-0000.prdf.root',\n",
      " '/phenix/u/jinhuang/links/sPHENIX_work/TPC/commissioning/TPC_ebdc23_beam-00010674-0000.prdf.root']\n"
     ]
    }
   ],
   "source": [
    "# run = 10645\n",
    "# run = 10647\n",
    "# run = 10648\n",
    "#  filenames = glob.glob(f\"/phenix/u/jinhuang/links/sPHENIX_work/TPC/commissioning/TPC_ebdc*_pedestal-*{run}-0000.prdf.root\")\n",
    "\n",
    "# run = 10661\n",
    "# filenames = glob.glob(f\"/phenix/u/jinhuang/links/sPHENIX_work/TPC/commissioning/TPC_ebdc*_pedestal-*{run}-0000.prdf.root\")\n",
    "\n",
    "# run = 10674\n",
    "# filenames = glob.glob(f\"/phenix/u/jinhuang/links/sPHENIX_work/TPC/commissioning/TPC_ebdc*_beam-*{run}-0000.prdf.root\")\n",
    "\n",
    "run = 11046\n",
    "filenames = glob.glob(f\"/sphenix/user/rosstom/test/testFiles/TPC_ebdc*_beam-*{run}-0000.prdf.root\")\n",
    "\n",
    "filenames.sort()\n",
    "pprint.pprint(filenames)"
   ]
  },
  {
   "cell_type": "code",
   "execution_count": 3,
   "id": "28924f94-74ee-453c-962f-9be67f5fb010",
   "metadata": {},
   "outputs": [
    {
     "name": "stdout",
     "output_type": "stream",
     "text": [
      "{'00': <cppyy.gbl.TFile object at 0x9350fc0>,\n",
      " '01': <cppyy.gbl.TFile object at 0x942f970>,\n",
      " '02': <cppyy.gbl.TFile object at 0x9636c60>,\n",
      " '03': <cppyy.gbl.TFile object at 0x9638530>,\n",
      " '04': <cppyy.gbl.TFile object at 0x96f8eb0>,\n",
      " '05': <cppyy.gbl.TFile object at 0x9719910>,\n",
      " '06': <cppyy.gbl.TFile object at 0x9630c50>,\n",
      " '07': <cppyy.gbl.TFile object at 0x96337b0>,\n",
      " '08': <cppyy.gbl.TFile object at 0x9740aa0>,\n",
      " '09': <cppyy.gbl.TFile object at 0x9743610>,\n",
      " '10': <cppyy.gbl.TFile object at 0x9751170>,\n",
      " '11': <cppyy.gbl.TFile object at 0x9754070>,\n",
      " '12': <cppyy.gbl.TFile object at 0x9756ac0>,\n",
      " '13': <cppyy.gbl.TFile object at 0x9758300>,\n",
      " '14': <cppyy.gbl.TFile object at 0x979ff00>,\n",
      " '15': <cppyy.gbl.TFile object at 0x97a2a70>,\n",
      " '16': <cppyy.gbl.TFile object at 0x97a55e0>,\n",
      " '17': <cppyy.gbl.TFile object at 0x97b8210>,\n",
      " '18': <cppyy.gbl.TFile object at 0x97bad30>,\n",
      " '19': <cppyy.gbl.TFile object at 0x97bd870>,\n",
      " '20': <cppyy.gbl.TFile object at 0x97c03d0>,\n",
      " '21': <cppyy.gbl.TFile object at 0x97c2ee0>,\n",
      " '22': <cppyy.gbl.TFile object at 0x97d6040>,\n",
      " '23': <cppyy.gbl.TFile object at 0x97d8980>}\n"
     ]
    }
   ],
   "source": [
    "files = dict()\n",
    "for filename in filenames: \n",
    "    file = ROOT.TFile.Open(filename)\n",
    "    sector = re.match(\".*ebdc([0-9][0-9])_.*\", filename).group(1)\n",
    "    files[sector] = file\n",
    "\n",
    "\n",
    "pprint.pprint(files);"
   ]
  },
  {
   "cell_type": "code",
   "execution_count": 4,
   "id": "48deded2-823f-426c-9206-550bb46ad94c",
   "metadata": {},
   "outputs": [
    {
     "name": "stdout",
     "output_type": "stream",
     "text": [
      "TFile**\t\t/phenix/u/jinhuang/links/sPHENIX_work/TPC/commissioning/TPC_ebdc14_beam-00010674-0000.prdf.root\t\n",
      " TFile*\t\t/phenix/u/jinhuang/links/sPHENIX_work/TPC/commissioning/TPC_ebdc14_beam-00010674-0000.prdf.root\t\n",
      "  KEY: TTree\tPacketTree;1\tEach entry is one packet\n",
      "  KEY: TTree\tSampleTree;1\tEach entry is one waveform\n",
      "  KEY: TTree\tTaggerTree;1\tEach entry is one tagger for level 1 trigger or endat tag\n",
      "======> EVENT:0\n",
      " packet          = 4140\n",
      " frame           = 2\n",
      " nWaveormInFrame = 754\n",
      " nTaggerInFrame  = 1\n",
      " maxFEECount     = 26\n",
      "======> EVENT:0\n",
      " packet          = 4140\n",
      " frame           = 2\n",
      " nWaveormInFrame = 754\n",
      " maxFEECount     = 26\n",
      " nSamples        = 360\n",
      " adcSamples      = 73, \n",
      "                  71, 72, 75, 67, 71, 67, 70, 70, 73, 72, \n",
      "                  73, 72, 74, 70, 66, 71, 70, 75, 70\n",
      " fee             = 16\n",
      " sampaAddress    = 0\n",
      " sampaChannel    = 2\n",
      " Channel         = 2\n",
      " BCO             = 56662\n",
      " checksum        = 19308\n",
      " checksumError   = 1\n",
      "======> EVENT:0\n",
      " packet          = 4140\n",
      " frame           = 2\n",
      " tagger_type     = 48112\n",
      " is_endat        = 0\n",
      " is_lvl1         = 1\n",
      " bco             = 591829430782\n",
      " lvl1_count      = 820121\n",
      " endat_count     = 812436\n",
      " last_bco        = 523936327056\n",
      " modebits        = 0\n"
     ]
    }
   ],
   "source": [
    "files['03'].ls()\n",
    "files['03'].PacketTree.Show(0)\n",
    "files['03'].SampleTree.Show(0)\n",
    "files['03'].TaggerTree.Show(0)"
   ]
  },
  {
   "cell_type": "code",
   "execution_count": 5,
   "id": "e19d3300-ef41-40aa-a559-dbbad2ca2f2f",
   "metadata": {},
   "outputs": [],
   "source": [
    "%%cpp -d\n",
    "\n",
    "#include<sPhenixStyle.C>"
   ]
  },
  {
   "cell_type": "code",
   "execution_count": 6,
   "id": "66a9adc6-474d-407d-b852-5f0c439079e5",
   "metadata": {},
   "outputs": [
    {
     "name": "stdout",
     "output_type": "stream",
     "text": [
      "sPhenixStyle: Applying nominal settings.\n",
      "sPhenixStyle: ROOT6 mode\n"
     ]
    }
   ],
   "source": [
    "%%cpp\n",
    "\n",
    "SetsPhenixStyle()"
   ]
  },
  {
   "cell_type": "code",
   "execution_count": 7,
   "id": "0f56342c-96f9-4eb5-893b-9f9400cffe19",
   "metadata": {},
   "outputs": [],
   "source": [
    "%jsroot on"
   ]
  },
  {
   "cell_type": "code",
   "execution_count": null,
   "id": "ad043c1e-491a-4628-ba55-9d83bf1f105b",
   "metadata": {},
   "outputs": [],
   "source": []
  },
  {
   "cell_type": "code",
   "execution_count": 8,
   "id": "54d0133f-ca54-4420-9cb8-94d9ed6f0336",
   "metadata": {},
   "outputs": [
    {
     "data": {
      "text/html": [
       "\n",
       "\n",
       "<div id=\"root_plot_1685386911020\"\n",
       "     style=\"width: 496px; height: 472px\">\n",
       "</div>\n",
       "<script>\n",
       "\n",
       "function display_root_plot_1685386911020(Core) {\n",
       "   let obj = Core.parse({\"_typename\":\"TCanvas\",\"fUniqueID\":0,\"fBits\":3342344,\"fLineColor\":1,\"fLineStyle\":1,\"fLineWidth\":1,\"fFillColor\":0,\"fFillStyle\":1001,\"fLeftMargin\":0.16,\"fRightMargin\":0.05,\"fBottomMargin\":0.16,\"fTopMargin\":0.05,\"fXfile\":2,\"fYfile\":2,\"fAfile\":1,\"fXstat\":0.99,\"fYstat\":0.99,\"fAstat\":2,\"fFrameFillColor\":0,\"fFrameLineColor\":1,\"fFrameFillStyle\":1001,\"fFrameLineStyle\":1,\"fFrameLineWidth\":1,\"fFrameBorderSize\":1,\"fFrameBorderMode\":0,\"fX1\":-6.6835439728728,\"fY1\":820115.759493831,\"fX2\":35.0886075693294,\"fY2\":820136.012658215,\"fXtoAbsPixelk\":79.3600467479706,\"fXtoPixelk\":79.3600467479706,\"fXtoPixel\":11.8739394952854,\"fYtoAbsPixelk\":19113269.9381215,\"fYtoPixelk\":19113269.9381215,\"fYtoPixel\":-23.305000198835,\"fUtoAbsPixelk\":5e-5,\"fUtoPixelk\":5e-5,\"fUtoPixel\":496,\"fVtoAbsPixelk\":472.00005,\"fVtoPixelk\":472,\"fVtoPixel\":-472,\"fAbsPixeltoXk\":-6.6835439728728,\"fPixeltoXk\":-6.6835439728728,\"fPixeltoX\":0.0842180474641174,\"fAbsPixeltoYk\":820136.012658215,\"fPixeltoYk\":820115.759493831,\"fPixeltoY\":-0.0429092465766204,\"fXlowNDC\":0,\"fYlowNDC\":0,\"fXUpNDC\":1,\"fYUpNDC\":1,\"fWNDC\":1,\"fHNDC\":1,\"fAbsXlowNDC\":0,\"fAbsYlowNDC\":0,\"fAbsWNDC\":1,\"fAbsHNDC\":1,\"fUxmin\":0,\"fUymin\":820119,\"fUxmax\":33,\"fUymax\":820135,\"fTheta\":30,\"fPhi\":30,\"fAspectRatio\":0,\"fNumber\":0,\"fTickx\":1,\"fTicky\":1,\"fLogx\":0,\"fLogy\":0,\"fLogz\":0,\"fPadPaint\":0,\"fCrosshair\":0,\"fCrosshairPos\":0,\"fBorderSize\":2,\"fBorderMode\":0,\"fModified\":false,\"fGridx\":false,\"fGridy\":false,\"fAbsCoord\":false,\"fEditable\":true,\"fFixedAspectRatio\":false,\"fPrimitives\":{\"_typename\":\"TList\",\"name\":\"TList\",\"arr\":[{\"_typename\":\"TFrame\",\"fUniqueID\":0,\"fBits\":8,\"fLineColor\":1,\"fLineStyle\":1,\"fLineWidth\":1,\"fFillColor\":0,\"fFillStyle\":1001,\"fX1\":0,\"fY1\":820119,\"fX2\":33,\"fY2\":820135,\"fBorderSize\":1,\"fBorderMode\":0},{\"_typename\":\"TH2F\",\"fUniqueID\":0,\"fBits\":521,\"fName\":\"htemp\",\"fTitle\":\"lvl1_count:frame {is_lvl1}\",\"fLineColor\":602,\"fLineStyle\":1,\"fLineWidth\":1,\"fFillColor\":0,\"fFillStyle\":1001,\"fMarkerColor\":1,\"fMarkerStyle\":1,\"fMarkerSize\":1,\"fNcells\":630,\"fXaxis\":{\"_typename\":\"TAxis\",\"fUniqueID\":0,\"fBits\":4194304,\"fName\":\"xaxis\",\"fTitle\":\"frame\",\"fNdivisions\":510,\"fAxisColor\":1,\"fLabelColor\":1,\"fLabelFont\":42,\"fLabelOffset\":0.005,\"fLabelSize\":0.05,\"fTickLength\":0.03,\"fTitleOffset\":1.4,\"fTitleSize\":0.05,\"fTitleColor\":1,\"fTitleFont\":42,\"fNbins\":33,\"fXmin\":0,\"fXmax\":33,\"fXbins\":[],\"fFirst\":1,\"fLast\":33,\"fBits2\":0,\"fTimeDisplay\":false,\"fTimeFormat\":\"\",\"fLabels\":null,\"fModLabs\":null},\"fYaxis\":{\"_typename\":\"TAxis\",\"fUniqueID\":0,\"fBits\":4194304,\"fName\":\"yaxis\",\"fTitle\":\"lvl1_count\",\"fNdivisions\":510,\"fAxisColor\":1,\"fLabelColor\":1,\"fLabelFont\":42,\"fLabelOffset\":0.005,\"fLabelSize\":0.05,\"fTickLength\":0.03,\"fTitleOffset\":1.4,\"fTitleSize\":0.05,\"fTitleColor\":1,\"fTitleFont\":42,\"fNbins\":16,\"fXmin\":820119,\"fXmax\":820135,\"fXbins\":[],\"fFirst\":1,\"fLast\":16,\"fBits2\":0,\"fTimeDisplay\":false,\"fTimeFormat\":\"\",\"fLabels\":null,\"fModLabs\":null},\"fZaxis\":{\"_typename\":\"TAxis\",\"fUniqueID\":0,\"fBits\":0,\"fName\":\"zaxis\",\"fTitle\":\"\",\"fNdivisions\":510,\"fAxisColor\":1,\"fLabelColor\":1,\"fLabelFont\":42,\"fLabelOffset\":0.005,\"fLabelSize\":0.05,\"fTickLength\":0.03,\"fTitleOffset\":1,\"fTitleSize\":0.05,\"fTitleColor\":1,\"fTitleFont\":42,\"fNbins\":1,\"fXmin\":0,\"fXmax\":1,\"fXbins\":[],\"fFirst\":0,\"fLast\":0,\"fBits2\":0,\"fTimeDisplay\":false,\"fTimeFormat\":\"\",\"fLabels\":null,\"fModLabs\":null},\"fBarOffset\":0,\"fBarWidth\":1000,\"fEntries\":0,\"fTsumw\":0,\"fTsumw2\":0,\"fTsumwx\":0,\"fTsumwx2\":0,\"fMaximum\":-1111,\"fMinimum\":-1111,\"fNormFactor\":0,\"fContour\":[],\"fSumw2\":[],\"fOption\":\"\",\"fFunctions\":{\"_typename\":\"TList\",\"name\":\"TList\",\"arr\":[],\"opt\":[]},\"fBufferSize\":3001,\"fBuffer\":{\"$arr\":\"Float64\",\"len\":3001},\"fBinStatErrOpt\":0,\"fStatOverflows\":2,\"fScalefactor\":1,\"fTsumwy\":0,\"fTsumwy2\":0,\"fTsumwxy\":0,\"fArray\":{\"$arr\":\"Float32\",\"len\":630}},{\"_typename\":\"TGraph\",\"fUniqueID\":0,\"fBits\":263177,\"fName\":\"Graph\",\"fTitle\":\"Graph\",\"fLineColor\":602,\"fLineStyle\":1,\"fLineWidth\":1,\"fFillColor\":0,\"fFillStyle\":1001,\"fMarkerColor\":1,\"fMarkerStyle\":1,\"fMarkerSize\":1,\"fNpoints\":26,\"fX\":{\"$arr\":\"Float64\",\"len\":26,\"v\":[2,2,4,4,7,7,9,9,11,11,13,13,16,16,18,18,20,20,22,22,25,25,27,27,29,29]},\"fY\":{\"$arr\":\"Float64\",\"len\":26,\"v\":[820121,820121,820122,820122,820123,820123,820124,820124,820125,820125,820126,820126,820127,820127,820128,820128,820129,820129,820130,820130,820131,820131,820132,820132,820133,820133]},\"fFunctions\":{\"_typename\":\"TList\",\"name\":\"TList\",\"arr\":[],\"opt\":[]},\"fHistogram\":{\"_typename\":\"TH1F\",\"fUniqueID\":0,\"fBits\":512,\"fName\":\"Graph\",\"fTitle\":\"Graph\",\"fLineColor\":1,\"fLineStyle\":1,\"fLineWidth\":2,\"fFillColor\":0,\"fFillStyle\":1001,\"fMarkerColor\":1,\"fMarkerStyle\":20,\"fMarkerSize\":1.2,\"fNcells\":102,\"fXaxis\":{\"_typename\":\"TAxis\",\"fUniqueID\":0,\"fBits\":0,\"fName\":\"xaxis\",\"fTitle\":\"\",\"fNdivisions\":510,\"fAxisColor\":1,\"fLabelColor\":1,\"fLabelFont\":42,\"fLabelOffset\":0.005,\"fLabelSize\":0.05,\"fTickLength\":0.03,\"fTitleOffset\":1.4,\"fTitleSize\":0.05,\"fTitleColor\":1,\"fTitleFont\":42,\"fNbins\":100,\"fXmin\":0,\"fXmax\":31.7,\"fXbins\":[],\"fFirst\":0,\"fLast\":0,\"fBits2\":0,\"fTimeDisplay\":false,\"fTimeFormat\":\"\",\"fLabels\":null,\"fModLabs\":null},\"fYaxis\":{\"_typename\":\"TAxis\",\"fUniqueID\":0,\"fBits\":0,\"fName\":\"yaxis\",\"fTitle\":\"\",\"fNdivisions\":510,\"fAxisColor\":1,\"fLabelColor\":1,\"fLabelFont\":42,\"fLabelOffset\":0.005,\"fLabelSize\":0.05,\"fTickLength\":0.03,\"fTitleOffset\":1.4,\"fTitleSize\":0.05,\"fTitleColor\":1,\"fTitleFont\":42,\"fNbins\":1,\"fXmin\":820119.8,\"fXmax\":820134.2,\"fXbins\":[],\"fFirst\":0,\"fLast\":0,\"fBits2\":0,\"fTimeDisplay\":false,\"fTimeFormat\":\"\",\"fLabels\":null,\"fModLabs\":null},\"fZaxis\":{\"_typename\":\"TAxis\",\"fUniqueID\":0,\"fBits\":0,\"fName\":\"zaxis\",\"fTitle\":\"\",\"fNdivisions\":510,\"fAxisColor\":1,\"fLabelColor\":1,\"fLabelFont\":42,\"fLabelOffset\":0.005,\"fLabelSize\":0.05,\"fTickLength\":0.03,\"fTitleOffset\":1,\"fTitleSize\":0.05,\"fTitleColor\":1,\"fTitleFont\":42,\"fNbins\":1,\"fXmin\":0,\"fXmax\":1,\"fXbins\":[],\"fFirst\":0,\"fLast\":0,\"fBits2\":0,\"fTimeDisplay\":false,\"fTimeFormat\":\"\",\"fLabels\":null,\"fModLabs\":null},\"fBarOffset\":0,\"fBarWidth\":1000,\"fEntries\":0,\"fTsumw\":0,\"fTsumw2\":0,\"fTsumwx\":0,\"fTsumwx2\":0,\"fMaximum\":820134.2,\"fMinimum\":820119.8,\"fNormFactor\":0,\"fContour\":[],\"fSumw2\":[],\"fOption\":\"\",\"fFunctions\":{\"_typename\":\"TList\",\"name\":\"TList\",\"arr\":[],\"opt\":[]},\"fBufferSize\":0,\"fBuffer\":[],\"fBinStatErrOpt\":0,\"fStatOverflows\":2,\"fArray\":{\"$arr\":\"Float32\",\"len\":102}},\"fMinimum\":-1111,\"fMaximum\":-1111},{\"_typename\":\"TStyle\",\"fUniqueID\":0,\"fBits\":0,\"fName\":\"sPHENIX\",\"fTitle\":\"sPHENIX style\",\"fLineColor\":1,\"fLineStyle\":1,\"fLineWidth\":1,\"fFillColor\":19,\"fFillStyle\":1001,\"fMarkerColor\":1,\"fMarkerStyle\":20,\"fMarkerSize\":1.2,\"fTextAngle\":0,\"fTextSize\":0.05,\"fTextAlign\":11,\"fTextColor\":1,\"fTextFont\":42,\"fXaxis\":{\"_typename\":\"TAttAxis\",\"fNdivisions\":510,\"fAxisColor\":1,\"fLabelColor\":1,\"fLabelFont\":42,\"fLabelOffset\":0.005,\"fLabelSize\":0.05,\"fTickLength\":0.03,\"fTitleOffset\":1.4,\"fTitleSize\":0.05,\"fTitleColor\":1,\"fTitleFont\":42},\"fYaxis\":{\"_typename\":\"TAttAxis\",\"fNdivisions\":510,\"fAxisColor\":1,\"fLabelColor\":1,\"fLabelFont\":42,\"fLabelOffset\":0.005,\"fLabelSize\":0.05,\"fTickLength\":0.03,\"fTitleOffset\":1.4,\"fTitleSize\":0.05,\"fTitleColor\":1,\"fTitleFont\":42},\"fZaxis\":{\"_typename\":\"TAttAxis\",\"fNdivisions\":510,\"fAxisColor\":1,\"fLabelColor\":1,\"fLabelFont\":42,\"fLabelOffset\":0.005,\"fLabelSize\":0.05,\"fTickLength\":0.03,\"fTitleOffset\":1,\"fTitleSize\":0.05,\"fTitleColor\":1,\"fTitleFont\":42},\"fBarWidth\":1,\"fBarOffset\":0,\"fColorModelPS\":0,\"fDrawBorder\":0,\"fOptLogx\":0,\"fOptLogy\":0,\"fOptLogz\":0,\"fOptDate\":0,\"fOptStat\":0,\"fOptTitle\":0,\"fOptFile\":0,\"fOptFit\":0,\"fShowEventStatus\":0,\"fShowEditor\":0,\"fShowToolBar\":0,\"fNumberContours\":80,\"fAttDate\":{\"_typename\":\"TAttText\",\"fTextAngle\":0,\"fTextSize\":0.025,\"fTextAlign\":11,\"fTextColor\":1,\"fTextFont\":62},\"fDateX\":0.01,\"fDateY\":0.01,\"fEndErrorSize\":0,\"fErrorX\":0.5,\"fFuncColor\":1,\"fFuncStyle\":1,\"fFuncWidth\":3,\"fGridColor\":0,\"fGridStyle\":3,\"fGridWidth\":1,\"fLegendBorderSize\":0,\"fLegendFillColor\":0,\"fLegendFont\":42,\"fLegendTextSize\":0.05,\"fHatchesLineWidth\":1,\"fHatchesSpacing\":1,\"fFrameFillColor\":0,\"fFrameLineColor\":1,\"fFrameFillStyle\":1001,\"fFrameLineStyle\":1,\"fFrameLineWidth\":1,\"fFrameBorderSize\":1,\"fFrameBorderMode\":0,\"fHistFillColor\":0,\"fHistLineColor\":1,\"fHistFillStyle\":1001,\"fHistLineStyle\":1,\"fHistLineWidth\":2,\"fHistMinimumZero\":false,\"fHistTopMargin\":0.05,\"fCanvasPreferGL\":false,\"fCanvasColor\":0,\"fCanvasBorderSize\":2,\"fCanvasBorderMode\":0,\"fCanvasDefH\":500,\"fCanvasDefW\":700,\"fCanvasDefX\":10,\"fCanvasDefY\":10,\"fPadColor\":0,\"fPadBorderSize\":2,\"fPadBorderMode\":0,\"fPadBottomMargin\":0.16,\"fPadTopMargin\":0.05,\"fPadLeftMargin\":0.16,\"fPadRightMargin\":0.05,\"fPadGridX\":false,\"fPadGridY\":false,\"fPadTickX\":1,\"fPadTickY\":1,\"fPaperSizeX\":20,\"fPaperSizeY\":26,\"fScreenFactor\":1,\"fStatColor\":0,\"fStatTextColor\":1,\"fStatBorderSize\":2,\"fStatFont\":62,\"fStatFontSize\":0,\"fStatStyle\":1001,\"fStatFormat\":\"6.4g\",\"fStatX\":0.98,\"fStatY\":0.995,\"fStatW\":0.2,\"fStatH\":0.16,\"fStripDecimals\":true,\"fTitleAlign\":13,\"fTitleColor\":19,\"fTitleTextColor\":1,\"fTitleBorderSize\":2,\"fTitleFont\":62,\"fTitleFontSize\":0,\"fTitleStyle\":1001,\"fTitleX\":0.01,\"fTitleY\":0.995,\"fTitleW\":0,\"fTitleH\":0,\"fLegoInnerR\":0.5,\"fLineStyles\":[\"\",\"  \",\"  12 12 \",\" 4 8\",\" 12 16 4 16\",\" 20 12 4 12\",\" 20 12 4 12 4 12 4 12\",\" 20 20\",\" 20 12 4 12 4 12\",\" 80 20\",\" 80 40 4 40\",\"  \",\"  \",\"  \",\"  \",\"  \",\"  \",\"  \",\"  \",\"  \",\"  \",\"  \",\"  \",\"  \",\"  \",\"  \",\"  \",\"  \",\"  \",\"  \"],\"fHeaderPS\":\"\",\"fTitlePS\":\"\",\"fFitFormat\":\"5.4g\",\"fPaintTextFormat\":\"g\",\"fLineScalePS\":3,\"fJoinLinePS\":0,\"fCapLinePS\":0,\"fTimeOffset\":788918400,\"fImageScaling\":1}],\"opt\":[\"\",\"\",\"p\",\"\"]},\"fExecs\":null,\"fName\":\"ADCQA\",\"fTitle\":\"ADCQA\",\"fNumPaletteColor\":0,\"fNextPaletteColor\":0,\"fDISPLAY\":\"$DISPLAY\",\"fDoubleBuffer\":0,\"fRetained\":true,\"fXsizeUser\":0,\"fYsizeUser\":0,\"fXsizeReal\":20,\"fYsizeReal\":20,\"fWindowTopX\":0,\"fWindowTopY\":0,\"fWindowWidth\":0,\"fWindowHeight\":0,\"fCw\":496,\"fCh\":472,\"fCatt\":{\"_typename\":\"TAttCanvas\",\"fXBetween\":2,\"fYBetween\":2,\"fTitleFromTop\":1.2,\"fXdate\":0.2,\"fYdate\":0.3,\"fAdate\":1},\"kMoveOpaque\":true,\"kResizeOpaque\":true,\"fHighLightColor\":2,\"fBatch\":true,\"kShowEventStatus\":false,\"kAutoExec\":true,\"kMenuBar\":true});\n",
       "   Core.settings.HandleKeys = false;\n",
       "   Core.draw(\"root_plot_1685386911020\", obj, \"\");\n",
       "}\n",
       "\n",
       "function script_load_root_plot_1685386911020(src, on_error) {\n",
       "    let script = document.createElement('script');\n",
       "    script.src = src;\n",
       "    script.onload = function() { display_root_plot_1685386911020(JSROOT); };\n",
       "    script.onerror = function() { script.remove(); on_error(); };\n",
       "    document.head.appendChild(script);\n",
       "}\n",
       "\n",
       "if (typeof requirejs !== 'undefined') {\n",
       "\n",
       "    // We are in jupyter notebooks, use require.js which should be configured already\n",
       "    requirejs.config({\n",
       "       paths: { 'JSRootCore' : [ 'scripts/JSRoot.core', 'https://root.cern/js/6.1.1/scripts/JSRoot.core.min', 'https://jsroot.gsi.de/6.1.1/scripts/JSRoot.core.min' ] }\n",
       "    })(['JSRootCore'],  function(Core) {\n",
       "       display_root_plot_1685386911020(Core);\n",
       "    });\n",
       "\n",
       "} else if (typeof JSROOT !== 'undefined') {\n",
       "\n",
       "   // JSROOT already loaded, just use it\n",
       "   display_root_plot_1685386911020(JSROOT);\n",
       "\n",
       "} else {\n",
       "\n",
       "    // We are in jupyterlab without require.js, directly loading jsroot\n",
       "    // Jupyterlab might be installed in a different base_url so we need to know it.\n",
       "    try {\n",
       "        var base_url = JSON.parse(document.getElementById('jupyter-config-data').innerHTML).baseUrl;\n",
       "    } catch(_) {\n",
       "        var base_url = '/';\n",
       "    }\n",
       "\n",
       "    // Try loading a local version of requirejs and fallback to cdn if not possible.\n",
       "    script_load_root_plot_1685386911020(base_url + 'static/scripts/JSRoot.core.js', function(){\n",
       "        console.error('Fail to load JSROOT locally, please check your jupyter_notebook_config.py file');\n",
       "        script_load_root_plot_1685386911020('https://root.cern/js/6.1.1/scripts/JSRoot.core.min.js', function(){\n",
       "            document.getElementById(\"root_plot_1685386911020\").innerHTML = \"Failed to load JSROOT\";\n",
       "        });\n",
       "    });\n",
       "}\n",
       "\n",
       "</script>\n"
      ],
      "text/plain": [
       "<IPython.core.display.HTML object>"
      ]
     },
     "metadata": {},
     "output_type": "display_data"
    }
   ],
   "source": [
    "\n",
    "c1 = ROOT.TCanvas( 'ADCQA', 'ADCQA', 500, 500)\n",
    "\n",
    "files['03'].TaggerTree.Draw(f\"lvl1_count:frame\",\"is_lvl1\");\n",
    "    \n",
    "c1.Draw(\"\")"
   ]
  },
  {
   "cell_type": "code",
   "execution_count": 1,
   "id": "ba0d2e9f-8652-4ba9-a071-d47cd17604ab",
   "metadata": {},
   "outputs": [
    {
     "ename": "NameError",
     "evalue": "name 'ROOT' is not defined",
     "output_type": "error",
     "traceback": [
      "\u001b[0;31m---------------------------------------------------------------------------\u001b[0m",
      "\u001b[0;31mNameError\u001b[0m                                 Traceback (most recent call last)",
      "Cell \u001b[0;32mIn [1], line 1\u001b[0m\n\u001b[0;32m----> 1\u001b[0m c1 \u001b[38;5;241m=\u001b[39m \u001b[43mROOT\u001b[49m\u001b[38;5;241m.\u001b[39mTCanvas( \u001b[38;5;124m'\u001b[39m\u001b[38;5;124mADCQA\u001b[39m\u001b[38;5;124m'\u001b[39m, \u001b[38;5;124m'\u001b[39m\u001b[38;5;124mADCQA\u001b[39m\u001b[38;5;124m'\u001b[39m, \u001b[38;5;241m500\u001b[39m, \u001b[38;5;241m500\u001b[39m)\n\u001b[1;32m      3\u001b[0m pad \u001b[38;5;241m=\u001b[39m c1\u001b[38;5;241m.\u001b[39mcd(\u001b[38;5;241m1\u001b[39m)\n\u001b[1;32m      4\u001b[0m pad\u001b[38;5;241m.\u001b[39mSetLogz()\n",
      "\u001b[0;31mNameError\u001b[0m: name 'ROOT' is not defined"
     ]
    }
   ],
   "source": [
    "\n",
    "c1 = ROOT.TCanvas( 'ADCQA', 'ADCQA', 500, 500)\n",
    "\n",
    "pad = c1.cd(1)\n",
    "pad.SetLogz()\n",
    "\n",
    "hADC = ROOT.TH2F(f'hADC{sector}', f';Sector{sector}: ADC Time bin [1/20MHz]; ADC [ADU]', 360, 0, 360, 256,0,1024);\n",
    "\n",
    "files['03'].SampleTree.Draw(f\"adcSamples:Iteration$>>hADC{sector}\",\"checksumError==0\",\"colz\");\n",
    "\n",
    "hADC.DrawClone(\"colz\");\n",
    "    \n",
    "c1.Draw(\"\")"
   ]
  },
  {
   "cell_type": "code",
   "execution_count": null,
   "id": "c7ab73c8-233b-42e9-bb1e-dfd28d5f9dd4",
   "metadata": {},
   "outputs": [],
   "source": [
    "\n",
    "files['03'].SampleTree.Scan(\"frame:fee:Channel\",\"checksumError==0 && adcSamples> 200\");\n",
    "\n"
   ]
  },
  {
   "cell_type": "code",
   "execution_count": null,
   "id": "c63da346-b38c-4069-bea7-3e659188154f",
   "metadata": {},
   "outputs": [],
   "source": []
  }
 ],
 "metadata": {
  "kernelspec": {
   "display_name": "Python (sPHENIX)",
   "language": "python",
   "name": "sphenix-env"
  },
  "language_info": {
   "codemirror_mode": {
    "name": "ipython",
    "version": 3
   },
   "file_extension": ".py",
   "mimetype": "text/x-python",
   "name": "python",
   "nbconvert_exporter": "python",
   "pygments_lexer": "ipython3",
   "version": "3.10.8"
  }
 },
 "nbformat": 4,
 "nbformat_minor": 5
}
